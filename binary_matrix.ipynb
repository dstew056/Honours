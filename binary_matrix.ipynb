{
 "cells": [
  {
   "cell_type": "code",
   "execution_count": 55,
   "metadata": {},
   "outputs": [],
   "source": [
    "import pandas as pd\n",
    "import numpy as np\n",
    "import csv\n",
    "\n",
    "threshold = 0.05 #pvalue threshold\n",
    "inputfile = 'DotProduct*Sum_2023-04-05 17:19:26.693836.csv'"
   ]
  },
  {
   "cell_type": "code",
   "execution_count": 56,
   "metadata": {},
   "outputs": [],
   "source": [
    "data = pd.read_csv(\"output_pval/\"+inputfile)\n",
    "pvals = data[\"Pval\"].values\n",
    "matrix = [pvals[i:i+217] for i in range(0, len(pvals), 217)]"
   ]
  },
  {
   "cell_type": "code",
   "execution_count": 57,
   "metadata": {},
   "outputs": [],
   "source": [
    "for i in range(len(matrix)):\n",
    "    matrix[i] = np.insert(matrix[i], i, 1.0)\n",
    "\n",
    "binary_matrix = [[int(elem < threshold) for elem in row] for row in matrix]"
   ]
  },
  {
   "cell_type": "code",
   "execution_count": 58,
   "metadata": {},
   "outputs": [],
   "source": [
    "with open('output_bmat/'+inputfile, 'w', newline = '') as file:\n",
    "    writer = csv.writer(file)\n",
    "\n",
    "    columnNames = 'Glycerol\t2-Hydroxybutyrate\t2-Hydroxyisovalerate\t3-Hydroxybutyrate\t3-Hydroxyisobutyrate\t4-Aminobutyrate\tAcetamide\tAcetate\tAcetoacetate\tAcetone\tAdenine\tADP\tAMP\tAnserine\tATP\tCholine\tCreatine\tDimethylamine\tDimethyl sulfone\tEthanolamine\tFormate\tFumarate\tGlucose\tHypoxanthine\tInosine\tIsobutyrate\tLactate\tMalonate\tMethanol\tmyo-Inositol\tN-Acetylaspartate\tNiacinamide\tO-Acetylcarnitine\tO-Phosphocholine\tPantothenate\tPropylene glycol\tPyroglutamate\tPyruvate\tsn-Glycero-3-phosphocholine\tSuccinate\tFructose\tUDP-galactose\tUDP-glucose\tUrea\tUracil\tXanthine\tC0\tC2\tC3\tC3-DC (C4-OH)\tC3-OH\tC3:1\tC4\tC4:1\tC5\tC5-DC (C6-OH)\tC5-M-DC\tC5-OH (C3-DC-M)\tC5:1\tC5:1-DC\tC6 (C4:1-DC)\tC6:1\tC7-DC\tC8\tC9\tC10\tC10:1\tC10:2\tC12\tC12-DC\tC12:1\tC14\tC14:1\tC14:1-OH\tC14:2\tC14:2-OH\tC16\tC16-OH\tC16:1\tC16:1-OH\tC16:2\tC16:2-OH\tC18\tC18:1\tC18:1-OH\tC18:2\tAla\tAsp\tCit\tGln\tGlu\tGly\tHis\tIle\tLeu\tLys\tMet\tPhe\tThr\tTrp\tTyr\tVal\tCreatinine\tHistamine\tTaurine\tSer\tPro\talpha-AAA\tCarnosine\tPutrescine\tSarcosine\tSDMA\tSerotonin\tSpermidine\tSpermine\tlysoPC a C14:0\tlysoPC a C16:0\tlysoPC a C16:1\tlysoPC a C17:0\tlysoPC a C18:0\tlysoPC a C18:1\tlysoPC a C18:2\tlysoPC a C20:3\tlysoPC a C20:4\tlysoPC a C24:0\tlysoPC a C26:0\tlysoPC a C26:1\tlysoPC a C28:0\tlysoPC a C28:1\tPC aa C24:0\tPC aa C26:0\tPC aa C28:1\tPC aa C30:0\tPC aa C32:0\tPC aa C32:1\tPC aa C32:2\tPC aa C32:3\tPC aa C34:1\tPC aa C34:2\tPC aa C34:3\tPC aa C34:4\tPC aa C36:0\tPC aa C36:1\tPC aa C36:2\tPC aa C36:3\tPC aa C36:4\tPC aa C36:5\tPC aa C36:6\tPC aa C38:0\tPC aa C38:3\tPC aa C38:4\tPC aa C38:5\tPC aa C38:6\tPC aa C40:1\tPC aa C40:2\tPC aa C40:3\tPC aa C40:4\tPC aa C40:5\tPC aa C40:6\tPC aa C42:0\tPC aa C42:1\tPC aa C42:2\tPC aa C42:4\tPC aa C42:5\tPC aa C42:6\tPC ae C30:0\tPC ae C30:1\tPC ae C30:2\tPC ae C32:1\tPC ae C32:2\tPC ae C34:0\tPC ae C34:1\tPC ae C34:2\tPC ae C34:3\tPC ae C36:0\tPC ae C36:1\tPC ae C36:2\tPC ae C36:3\tPC ae C36:4\tPC ae C36:5\tPC ae C38:0\tPC ae C38:1\tPC ae C38:2\tPC ae C38:3\tPC ae C38:4\tPC ae C38:5\tPC ae C38:6\tPC ae C40:1\tPC ae C40:2\tPC ae C40:3\tPC ae C40:4\tPC ae C40:5\tPC ae C40:6\tPC ae C42:0\tPC ae C42:1\tPC ae C42:2\tPC ae C42:3\tPC ae C42:4\tPC ae C42:5\tPC ae C44:3\tPC ae C44:4\tPC ae C44:5\tPC ae C44:6\tSM (OH) C14:1\tSM (OH) C16:1\tSM (OH) C22:1\tSM (OH) C22:2\tSM (OH) C24:1\tSM C16:0\tSM C16:1\tSM C18:0\tSM C18:1\tSM C20:2\tSM C24:0\tSM C24:1\tSM C26:0\tSM C26:1\tH1'.split('\t')\n",
    "\n",
    "    writer.writerow()\n",
    "    \n",
    "    for row in binary_matrix:\n",
    "        writer.writerow(row)\n"
   ]
  }
 ],
 "metadata": {
  "kernelspec": {
   "display_name": "Python 3",
   "language": "python",
   "name": "python3"
  },
  "language_info": {
   "codemirror_mode": {
    "name": "ipython",
    "version": 3
   },
   "file_extension": ".py",
   "mimetype": "text/x-python",
   "name": "python",
   "nbconvert_exporter": "python",
   "pygments_lexer": "ipython3",
   "version": "3.10.6"
  },
  "orig_nbformat": 4,
  "vscode": {
   "interpreter": {
    "hash": "916dbcbb3f70747c44a77c7bcd40155683ae19c65e1c03b4aa3499c5328201f1"
   }
  }
 },
 "nbformat": 4,
 "nbformat_minor": 2
}
