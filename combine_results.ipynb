{
 "cells": [
  {
   "cell_type": "code",
   "execution_count": 18,
   "metadata": {},
   "outputs": [
    {
     "name": "stdout",
     "output_type": "stream",
     "text": [
      ".csv\n",
      "         Source                 Target     Score\n",
      "0      Glycerol      2-Hydroxybutyrate  0.251193\n",
      "1      Glycerol   2-Hydroxyisovalerate  0.365513\n",
      "2      Glycerol        4-Aminobutyrate  0.559932\n",
      "3      Glycerol                Acetate  0.697787\n",
      "4      Glycerol                Acetone  0.286443\n",
      "...         ...                    ...       ...\n",
      "13131        H1          SM (OH) C22:2  0.304092\n",
      "13132        H1               SM C16:0  0.216909\n",
      "13133        H1               SM C20:2  0.195263\n",
      "13134        H1               SM C24:0  0.410913\n",
      "13135        H1               SM C24:1  0.057184\n",
      "\n",
      "[13136 rows x 3 columns]\n",
      ".csv\n",
      "       Source                 Target     Score\n",
      "0    Glycerol      2-Hydroxybutyrate  0.251193\n",
      "1    Glycerol   2-Hydroxyisovalerate  0.365513\n",
      "2    Glycerol        4-Aminobutyrate  0.559932\n",
      "3    Glycerol                Acetate  0.697787\n",
      "4    Glycerol                Acetone  0.286443\n",
      "..        ...                    ...       ...\n",
      "338        H1                  C7-DC  0.185355\n",
      "339        H1         lysoPC a C20:4  0.129089\n",
      "340        H1            PC ae C34:2  0.307440\n",
      "341        H1            PC ae C34:3  0.047827\n",
      "342        H1            PC ae C36:3  0.256606\n",
      "\n",
      "[13479 rows x 3 columns]\n",
      ".csv\n",
      "        Source                 Target     Score\n",
      "0     Glycerol      2-Hydroxybutyrate  0.251193\n",
      "1     Glycerol   2-Hydroxyisovalerate  0.365513\n",
      "2     Glycerol        4-Aminobutyrate  0.559932\n",
      "3     Glycerol                Acetate  0.697787\n",
      "4     Glycerol                Acetone  0.286443\n",
      "...        ...                    ...       ...\n",
      "6182        H1         lysoPC a C28:1  0.185002\n",
      "6183        H1          SM (OH) C14:1  0.322843\n",
      "6184        H1          SM (OH) C16:1  0.229771\n",
      "6185        H1          SM (OH) C22:1  0.538551\n",
      "6186        H1               SM C20:2  0.140197\n",
      "\n",
      "[19666 rows x 3 columns]\n",
      ".csv\n",
      "         Source                 Target     Score\n",
      "0      Glycerol      2-Hydroxybutyrate  0.251193\n",
      "1      Glycerol   2-Hydroxyisovalerate  0.365513\n",
      "2      Glycerol        4-Aminobutyrate  0.559932\n",
      "3      Glycerol                Acetate  0.697787\n",
      "4      Glycerol                Acetone  0.286443\n",
      "...         ...                    ...       ...\n",
      "13543        H1               SM C16:0  0.264924\n",
      "13544        H1               SM C20:2  0.245585\n",
      "13545        H1               SM C24:0  0.410913\n",
      "13546        H1               SM C24:1  0.057184\n",
      "13547        H1               SM C26:1  0.363040\n",
      "\n",
      "[33214 rows x 3 columns]\n",
      "         Source                 Target     Score\n",
      "0      Glycerol      2-Hydroxybutyrate  0.251193\n",
      "1      Glycerol   2-Hydroxyisovalerate  0.365513\n",
      "2      Glycerol        4-Aminobutyrate  0.559932\n",
      "3      Glycerol                Acetate  0.697787\n",
      "4      Glycerol                Acetone  0.286443\n",
      "...         ...                    ...       ...\n",
      "13543        H1               SM C16:0  0.264924\n",
      "13544        H1               SM C20:2  0.245585\n",
      "13545        H1               SM C24:0  0.410913\n",
      "13546        H1               SM C24:1  0.057184\n",
      "13547        H1               SM C26:1  0.363040\n",
      "\n",
      "[33214 rows x 3 columns]\n"
     ]
    }
   ],
   "source": [
    "import pandas as pd\n",
    "import os\n",
    "\n",
    "results = pd.DataFrame()\n",
    "\n",
    "for f in os.listdir(\"output/\"):\n",
    "    if (f[len(f)-1-f[::-1].index(\".\"):]):\n",
    "        results = pd.concat([results,pd.read_csv(\"output/\"+f)])\n",
    "\n",
    "print(results)"
   ]
  }
 ],
 "metadata": {
  "kernelspec": {
   "display_name": "gpr_env",
   "language": "python",
   "name": "python3"
  },
  "language_info": {
   "codemirror_mode": {
    "name": "ipython",
    "version": 3
   },
   "file_extension": ".py",
   "mimetype": "text/x-python",
   "name": "python",
   "nbconvert_exporter": "python",
   "pygments_lexer": "ipython3",
   "version": "3.10.6"
  },
  "orig_nbformat": 4,
  "vscode": {
   "interpreter": {
    "hash": "1fae15d8509c66d6fd24b45da3b148a365bedcb4c7ee176cb214e08b16ce8ae4"
   }
  }
 },
 "nbformat": 4,
 "nbformat_minor": 2
}
