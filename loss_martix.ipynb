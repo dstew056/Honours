{
 "cells": [
  {
   "attachments": {},
   "cell_type": "markdown",
   "metadata": {},
   "source": [
    "next:\n",
    "\n",
    "kfold (leave one out?)\n",
    "look into whitekernel\n",
    "mess with p value threshold\n",
    "calculate dlb and ctrl"
   ]
  },
  {
   "cell_type": "code",
   "execution_count": 46,
   "metadata": {},
   "outputs": [],
   "source": [
    "import distanceCorrelation as dc\n",
    "import numpy as np\n",
    "import math\n",
    "import pandas as pd\n",
    "import random\n",
    "import sklearn.gaussian_process as gp\n",
    "import heapq\n",
    "import copy\n",
    "import scipy.stats as sp\n",
    "import sys\n",
    "import subprocess\n",
    "import inspect\n",
    "from sklearn.utils._testing import ignore_warnings\n",
    "from sklearn.exceptions import ConvergenceWarning\n",
    "from sklearn.metrics import mean_squared_error\n",
    "import warnings\n",
    "import datetime\n",
    "import networkx as nx\n",
    "import csv\n",
    "import os\n",
    "import matplotlib.pyplot as plt\n",
    "\n",
    "\n",
    "#https://www.geeksforgeeks.org/using-jupyter-notebook-in-virtual-environment/"
   ]
  },
  {
   "cell_type": "code",
   "execution_count": 2,
   "metadata": {},
   "outputs": [
    {
     "name": "stdout",
     "output_type": "stream",
     "text": [
      "     HexSph(d18:1)  HexCer(d18:1/14:0)  HexCer(d18:1/16:0)  \\\n",
      "0         2.638076           -0.769062           -0.768450   \n",
      "1        -0.061101           -1.386076           -1.252752   \n",
      "2        -0.927758            0.390876            0.689601   \n",
      "3        -0.562430            1.030497            1.042936   \n",
      "4        -0.841340            1.368181            0.490445   \n",
      "..             ...                 ...                 ...   \n",
      "113      -0.230057           -1.059481           -1.514699   \n",
      "114      -0.112734            0.990947            0.837592   \n",
      "115      -1.390655           -1.178335           -1.099692   \n",
      "116      -0.045407           -1.558056           -1.846219   \n",
      "117      -0.476131           -0.170501           -0.553878   \n",
      "\n",
      "     HexCer(d18:1/18:1)  HexCer(d18:1/18:0)  HexCer(d18:1/20:1)  \\\n",
      "0             -0.732716            0.350550           -0.664229   \n",
      "1             -1.243343           -1.232974           -0.669430   \n",
      "2              0.199303            0.670264           -0.045201   \n",
      "3             -0.318773            1.008816           -0.177328   \n",
      "4             -0.302243           -0.409255           -0.704288   \n",
      "..                  ...                 ...                 ...   \n",
      "113            2.654028           -0.694588           -0.799641   \n",
      "114            0.711761            0.328581            0.306437   \n",
      "115            0.911914           -0.601123           -0.580507   \n",
      "116            0.633100           -0.911569           -0.745217   \n",
      "117            0.554948           -0.374485           -0.870455   \n",
      "\n",
      "     HexCer(d18:1/20:0)  HexCer(d18:1/22:1)  HexCer(d18:1/22:0)  \\\n",
      "0              0.305627           -0.584746           -0.149905   \n",
      "1             -1.281865           -1.103805           -1.588530   \n",
      "2             -0.315416           -0.644406            0.221007   \n",
      "3              1.116134            0.684923            1.969832   \n",
      "4             -0.301702           -0.857638            1.425612   \n",
      "..                  ...                 ...                 ...   \n",
      "113            0.006767           -0.847394           -1.677575   \n",
      "114           -0.359429            0.341936            0.948767   \n",
      "115            1.205855           -1.780901           -0.509358   \n",
      "116           -0.186905           -1.108895           -1.578750   \n",
      "117            1.064921           -0.860769            0.208000   \n",
      "\n",
      "     HexCer(d18:1/24:1)  ...  SM(d18:1/18:1)  SM(d18:1/18:0)  SM(d18:1/20:1)  \\\n",
      "0             -0.323266  ...       -0.187656        0.218829        0.916826   \n",
      "1             -1.380060  ...       -0.372854        0.236506       -0.479522   \n",
      "2              0.702051  ...        0.492436        1.440942       -0.353547   \n",
      "3              0.864642  ...       -1.092708       -1.638877        0.063201   \n",
      "4             -0.213645  ...       -1.566940       -1.400826       -0.869435   \n",
      "..                  ...  ...             ...             ...             ...   \n",
      "113           -1.259482  ...       -0.856135       -1.280845       -1.496441   \n",
      "114            0.234353  ...       -1.270676       -0.040027       -0.773128   \n",
      "115           -1.521636  ...        0.225634        1.817951       -0.950632   \n",
      "116           -1.312577  ...        2.366970       -1.582136       -1.185677   \n",
      "117           -0.525047  ...        1.333593        0.884516        2.128554   \n",
      "\n",
      "     SM(d18:1/20:0)  SM(d18:1/22:1)  SM(d18:1/22:0)  SM(d18:1/24:1)  \\\n",
      "0          1.093323        1.461533        0.766590        0.604688   \n",
      "1         -0.944149       -0.548030       -0.708060       -0.260011   \n",
      "2         -0.761705       -0.535558       -0.163504        0.863067   \n",
      "3          0.202677        0.740665        0.647478       -0.748154   \n",
      "4          1.923190        0.546585        1.215561       -1.700968   \n",
      "..              ...             ...             ...             ...   \n",
      "113       -0.539100       -0.715657       -0.695321       -1.054386   \n",
      "114       -0.466008       -0.675469       -0.458817       -0.708340   \n",
      "115        1.177408       -0.717763        1.141052       -1.158816   \n",
      "116       -2.033420       -1.837573       -2.052979       -1.481853   \n",
      "117        1.626904        1.475010        2.367315       -0.440035   \n",
      "\n",
      "     SM(d18:1/24:0)  SM(d18:1/26:1)  SM(d18:1/26:0)  \n",
      "0          1.023791        0.211683        1.245220  \n",
      "1         -0.941997       -0.407051       -0.418975  \n",
      "2          0.240725        0.904664        0.071838  \n",
      "3          0.548160       -0.778557       -0.949548  \n",
      "4          1.121980       -1.260213        0.461651  \n",
      "..              ...             ...             ...  \n",
      "113       -0.630405       -0.790820       -0.067210  \n",
      "114       -0.456132       -0.850707        0.185676  \n",
      "115        0.180368       -0.589116        0.890044  \n",
      "116       -1.756167       -1.075169        1.841723  \n",
      "117        2.092358       -0.901203       -0.096195  \n",
      "\n",
      "[118 rows x 43 columns]\n"
     ]
    }
   ],
   "source": [
    "df = pd.read_excel(\"Obeid_set_control_visit1.xlsx\")\n",
    "#df.drop(df[df.Group!=\"Ctrl\"].index, inplace=True)\n",
    "df.drop(\"PFI\", axis=1, inplace=True)\n",
    "df = df.apply(sp.zscore)\n",
    "print(df)"
   ]
  },
  {
   "cell_type": "code",
   "execution_count": 20,
   "metadata": {},
   "outputs": [],
   "source": [
    "def outputPredictions(arr):\n",
    "    if len(arr[0])==1:\n",
    "        molecule=arr[1][0]\n",
    "    else:\n",
    "        molecule=arr[0][0]\n",
    "    \n",
    "    with open(\"output_predictions/\"+molecule.replace('/','|')+\".csv\", 'w', newline = '') as file:\n",
    "        writer = csv.writer(file)\n",
    "\n",
    "        for row in arr:\n",
    "            if len(row)==1:\n",
    "                writer.writerow(\"1\")\n",
    "            else:\n",
    "                writer.writerow([row[0]]+[row[1]]+list(row[2])+list(row[3]))\n",
    "                "
   ]
  },
  {
   "cell_type": "code",
   "execution_count": 21,
   "metadata": {},
   "outputs": [
    {
     "name": "stdout",
     "output_type": "stream",
     "text": [
      "2.33% complete\n",
      "4.65% complete\n",
      "6.98% complete\n",
      "9.3% complete\n",
      "11.63% complete\n",
      "13.95% complete\n",
      "16.28% complete\n",
      "18.6% complete\n",
      "20.93% complete\n",
      "23.26% complete\n",
      "25.58% complete\n",
      "27.91% complete\n",
      "30.23% complete\n",
      "32.56% complete\n",
      "34.88% complete\n",
      "37.21% complete\n",
      "39.53% complete\n",
      "41.86% complete\n",
      "44.19% complete\n",
      "46.51% complete\n",
      "48.84% complete\n",
      "51.16% complete\n",
      "53.49% complete\n",
      "55.81% complete\n",
      "58.14% complete\n",
      "60.47% complete\n",
      "62.79% complete\n",
      "65.12% complete\n",
      "67.44% complete\n",
      "69.77% complete\n",
      "72.09% complete\n",
      "74.42% complete\n",
      "76.74% complete\n",
      "79.07% complete\n",
      "81.4% complete\n",
      "83.72% complete\n",
      "86.05% complete\n",
      "88.37% complete\n",
      "90.7% complete\n",
      "93.02% complete\n",
      "95.35% complete\n",
      "97.67% complete\n",
      "100.0% complete\n"
     ]
    }
   ],
   "source": [
    "warnings.filterwarnings(action='ignore', category=ConvergenceWarning)\n",
    "\n",
    "kernel1 = gp.kernels.DotProduct()\n",
    "kernel2 = gp.kernels.RBF() + gp.kernels.WhiteKernel()\n",
    "kernel= kernel1+kernel2\n",
    "\n",
    "#models=[]\n",
    "loss=[] #to be 2D array for all loss values\n",
    "count=0.0\n",
    "\n",
    "for molecule1 in df:\n",
    "    count+=1\n",
    "    print(str(round(count*100/len(df.columns),2)) + \"% complete\")\n",
    "    #molecule1models=[]\n",
    "    molecule1Loss=[] #1D array, loss values for single molecule\n",
    "    for molecule2 in df:\n",
    "        if molecule1==molecule2: #ensure we don't compare a molecule to itself\n",
    "            molecule1Loss+=[[molecule1]]\n",
    "            #molecule1models+=NULL\n",
    "\n",
    "        else:\n",
    "            #Splitting into train and validation sets\n",
    "\n",
    "            sources = df[molecule1].values\n",
    "\n",
    "            targets = df[molecule2].values\n",
    "\n",
    "            predictions = []\n",
    "            predtargets = []\n",
    "\n",
    "            for j in range(4):\n",
    "\n",
    "                i = random.randint(0,len(sources)-1)\n",
    "                x = np.delete(sources, i)\n",
    "                y = np.delete(targets, i)\n",
    "\n",
    "                cvx = np.array(sources[i])\n",
    "                #cvy = np.array(targets[:i+1])\n",
    "\n",
    "                x = x.reshape(-1,1)\n",
    "                cvx = cvx.reshape(1,-1)\n",
    "\n",
    "                model = gp.GaussianProcessRegressor(kernel=kernel).fit(x,y)\n",
    "                #molecule1Loss+=[model.score(cvx,cvy)] #for outputting score\n",
    "\n",
    "                #for outputting pvalue\n",
    "                predictions+=[model.predict(cvx)]\n",
    "                predtargets+=[targets[i]]\n",
    "                pass\n",
    "\n",
    "            #predictions = np.array(predictions).flatten()\n",
    "            #_,pval=sp.ttest_rel(predictions,targets)\n",
    "            \n",
    "            molecule1Loss += [[molecule1, molecule2,np.array(predictions).flatten(), predtargets]]\n",
    "            \n",
    "    outputPredictions(molecule1Loss)\n",
    "    pass"
   ]
  },
  {
   "cell_type": "code",
   "execution_count": 44,
   "metadata": {},
   "outputs": [
    {
     "ename": "NameError",
     "evalue": "name 'loss' is not defined",
     "output_type": "error",
     "traceback": [
      "\u001b[0;31m---------------------------------------------------------------------------\u001b[0m",
      "\u001b[0;31mNameError\u001b[0m                                 Traceback (most recent call last)",
      "Cell \u001b[0;32mIn[44], line 1\u001b[0m\n\u001b[0;32m----> 1\u001b[0m \u001b[39mfor\u001b[39;00m arr \u001b[39min\u001b[39;00m loss:\n\u001b[1;32m      2\u001b[0m     \u001b[39mif\u001b[39;00m arr[\u001b[39m0\u001b[39m][\u001b[39m0\u001b[39m]\u001b[39m==\u001b[39m\u001b[39m1.0\u001b[39m:\n\u001b[1;32m      3\u001b[0m         molecule\u001b[39m=\u001b[39marr[\u001b[39m1\u001b[39m][\u001b[39m0\u001b[39m]\n",
      "\u001b[0;31mNameError\u001b[0m: name 'loss' is not defined"
     ]
    }
   ],
   "source": [
    "\"\"\" #output predictions to files\n",
    "\n",
    "for arr in loss:\n",
    "    if arr[0][0]==1.0:\n",
    "        molecule=arr[1][0]\n",
    "    else:\n",
    "        molecule=arr[0][0]\n",
    "    \n",
    "    with open(\"output_predictions/\"+molecule+\".csv\", 'w', newline = '') as file:\n",
    "        writer = csv.writer(file)\n",
    "\n",
    "        for row in arr:\n",
    "            if row[0]!=1.0:\n",
    "                writer.writerow([row[0]]+[row[1]]+list(row[2])+list(row[3]))\n",
    "            else:\n",
    "                writer.writerow(\"1\")\n",
    "\n",
    "        pass\n",
    " \"\"\""
   ]
  },
  {
   "cell_type": "code",
   "execution_count": 22,
   "metadata": {},
   "outputs": [],
   "source": [
    "#read predictions from files\n",
    "\n",
    "i=-1\n",
    "predictions = []\n",
    "for filename in os.listdir(\"output_predictions\"):\n",
    "    if filename.endswith(\".csv\"):\n",
    "\n",
    "        file_path = os.path.join('output_predictions', filename)\n",
    "\n",
    "        with open(file_path, \"r\") as csv_file:\n",
    "            \n",
    "            csv_reader = csv.reader(csv_file)\n",
    "            predictions+=[[]]\n",
    "            i+=1\n",
    "\n",
    "            for row in csv_reader:\n",
    "                predictions[i]+=[row]"
   ]
  },
  {
   "cell_type": "code",
   "execution_count": 25,
   "metadata": {},
   "outputs": [],
   "source": [
    "#calculate mse values from predictions\n",
    "\n",
    "errors = {}\n",
    "\n",
    "for molecule in predictions:\n",
    "    moleculeErrors = []\n",
    "    for row in molecule:\n",
    "        if len(row)==1:\n",
    "            moleculeErrors += [0.0]\n",
    "        else:\n",
    "            preds = row[2:6]\n",
    "            targets= row[6:]\n",
    "\n",
    "            squared_errors = [(float(preds[i]) - float(targets[i])) ** 2 for i in range(len(preds))]\n",
    "            moleculeErrors += [sum(squared_errors) / len(targets)]\n",
    "\n",
    "    if len(molecule[0])==1:\n",
    "        errors[molecule[1][0]] = moleculeErrors\n",
    "    else:\n",
    "        errors[molecule[0][0]] = moleculeErrors\n",
    "\n",
    "pass"
   ]
  },
  {
   "cell_type": "code",
   "execution_count": 26,
   "metadata": {},
   "outputs": [],
   "source": [
    "#output mse to csv\n",
    "\n",
    "with open(\"output_mse/output.csv\", 'w', newline = '') as file:\n",
    "    writer = csv.writer(file)\n",
    "\n",
    "    writer.writerow(df.columns)\n",
    "    for molecule in df:\n",
    "        writer.writerow(errors[molecule])"
   ]
  },
  {
   "cell_type": "code",
   "execution_count": 80,
   "metadata": {},
   "outputs": [],
   "source": [
    "#read in prior knowledge adjacency matrix\n",
    "\n",
    "priors = []\n",
    "\n",
    "with open(\"Adjacency_matrix_Obeid_March17_2023_version_3d.csv\", 'r') as file:\n",
    "    csv_reader = csv.reader(file)\n",
    "\n",
    "    for row in csv_reader:\n",
    "        priors+= [row[1:]]\n",
    "\n",
    "    columns = priors[0]\n",
    "    priors = priors[1:]    \n",
    "    pass"
   ]
  },
  {
   "cell_type": "code",
   "execution_count": 82,
   "metadata": {},
   "outputs": [],
   "source": [
    "#adjust for directionality\n",
    "\n",
    "for i in range(len(priors)):\n",
    "    for j in range(len(priors)):\n",
    "        if errors[columns[i]][j]>0.0 and priors[i][j]=='1':\n",
    "            if errors[columns[i]][j]>errors[columns[j]][i]:\n",
    "                priors[i][j]=\"0\"\n",
    "            else:\n",
    "                priors[j][i]=\"0\"\n"
   ]
  },
  {
   "cell_type": "code",
   "execution_count": 83,
   "metadata": {},
   "outputs": [],
   "source": [
    "#get mse from each prior, calculate threshold\n",
    "sig_error=[]\n",
    "all_error=[]\n",
    "\n",
    "for i in range(len(priors)):\n",
    "    for j in range(len(priors)):\n",
    "        if errors[columns[i]][j]>0.0:\n",
    "            all_error+=[errors[columns[i]][j]]\n",
    "        if priors[i][j]=='1':\n",
    "            sig_error+=[errors[columns[i]][j]]\n",
    "\n",
    "threshold = np.mean(sig_error)\n",
    "mean = np.mean(all_error)\n",
    "\n",
    "\n",
    "sig_error.sort()\n",
    "all_error.sort()"
   ]
  },
  {
   "cell_type": "code",
   "execution_count": 62,
   "metadata": {},
   "outputs": [
    {
     "data": {
      "image/png": "[encoded data removed]",
      "text/plain": [
       "<Figure size 640x480 with 1 Axes>"
      ]
     },
     "metadata": {},
     "output_type": "display_data"
    }
   ],
   "source": [
    "#distribution of all mse\n",
    "plt.hist(all_error,100)\n",
    "plt.show()"
   ]
  },
  {
   "cell_type": "code",
   "execution_count": 64,
   "metadata": {},
   "outputs": [
    {
     "data": {
      "image/png": "[encoded data removed]",
      "text/plain": [
       "<Figure size 640x480 with 1 Axes>"
      ]
     },
     "metadata": {},
     "output_type": "display_data"
    },
    {
     "name": "stdout",
     "output_type": "stream",
     "text": [
      "0.6352030343379731\n",
      "0.6751507251771326\n"
     ]
    }
   ],
   "source": [
    "#distribution of mse from prior known pairs\n",
    "plt.hist(sig_error,100)\n",
    "plt.show()\n",
    "print(np.median(sig_error))\n",
    "print(np.median(all_error))"
   ]
  },
  {
   "cell_type": "code",
   "execution_count": 84,
   "metadata": {},
   "outputs": [
    {
     "data": {
      "image/png": "[encoded data removed]",
      "text/plain": [
       "<Figure size 640x480 with 1 Axes>"
      ]
     },
     "metadata": {},
     "output_type": "display_data"
    }
   ],
   "source": [
    "#ratio between prior known pairs and total pairs included below given threshold\n",
    "\n",
    "count = []\n",
    "\n",
    "for i in range(len(sig_error[1:])):\n",
    "    count+=[(len([e for e in all_error if e<sig_error[i+1]]))/(i+1)]\n",
    "\n",
    "plt.plot(count)\n",
    "plt.show()"
   ]
  },
  {
   "cell_type": "code",
   "execution_count": 75,
   "metadata": {},
   "outputs": [
    {
     "data": {
      "image/png": "[encoded data removed]",
      "text/plain": [
       "<Figure size 640x480 with 1 Axes>"
      ]
     },
     "metadata": {},
     "output_type": "display_data"
    }
   ],
   "source": [
    "#\n",
    "\n",
    "sig_error_p=[e for e in sig_error if e<2.0]\n",
    "all_error_p=[e for e in all_error if e<4.0]\n",
    "\n",
    "count = []\n",
    "\n",
    "for i in range(len(sig_error_p)):\n",
    "    count+=[(len([e for e in all_error_p if e<sig_error_p[i]]))/(i+1)]\n",
    "\n",
    "plt.plot(count)\n",
    "plt.show()"
   ]
  },
  {
   "cell_type": "code",
   "execution_count": 37,
   "metadata": {},
   "outputs": [],
   "source": [
    "#map threshold, output binary matrix\n",
    "\n",
    "\n",
    "with open(\"output_bmat/output.csv\", 'w', newline = '') as file:\n",
    "    writer = csv.writer(file)\n",
    "\n",
    "    writer.writerow(df.columns)\n",
    "    for molecule in df:\n",
    "        out_arr = [1 if e<threshold else 0 for e in errors[molecule]]\n",
    "        writer.writerow(out_arr)"
   ]
  },
  {
   "cell_type": "code",
   "execution_count": null,
   "metadata": {},
   "outputs": [],
   "source": [
    "with open(\"output_mse/output.csv\",'r'):\n",
    "    csv_reader = csv.reader(csv_file)\n",
    "\n",
    "    for row in csv_reader:\n",
    "        "
   ]
  }
 ],
 "metadata": {
  "kernelspec": {
   "display_name": "gpr_env",
   "language": "python",
   "name": "python3"
  },
  "language_info": {
   "codemirror_mode": {
    "name": "ipython",
    "version": 3
   },
   "file_extension": ".py",
   "mimetype": "text/x-python",
   "name": "python",
   "nbconvert_exporter": "python",
   "pygments_lexer": "ipython3",
   "version": "3.10.6"
  },
  "orig_nbformat": 4,
  "vscode": {
   "interpreter": {
    "hash": "1fae15d8509c66d6fd24b45da3b148a365bedcb4c7ee176cb214e08b16ce8ae4"
   }
  }
 },
 "nbformat": 4,
 "nbformat_minor": 2
}
